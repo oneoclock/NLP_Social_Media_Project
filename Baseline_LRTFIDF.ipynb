{
 "cells": [
  {
   "cell_type": "code",
   "execution_count": 1,
   "metadata": {},
   "outputs": [],
   "source": [
    "import numpy as np\n",
    "import string\n",
    "import nltk \n",
    "import os\n",
    "import re\n",
    "import emoji\n",
    "import pandas as pd\n",
    "from sklearn.metrics import precision_recall_fscore_support\n",
    "from sklearn.model_selection import train_test_split\n",
    "from sklearn.linear_model import LogisticRegression\n",
    "from sklearn.feature_extraction.text import TfidfVectorizer\n",
    "from nltk.stem.porter import PorterStemmer\n",
    "from sklearn.metrics import f1_score"
   ]
  },
  {
   "cell_type": "code",
   "execution_count": 2,
   "metadata": {},
   "outputs": [],
   "source": [
    "df_train1_x=pd.read_csv(r\"C:\\Users\\NehaS\\Desktop\\HW\\CS 594 Project\\Data\\training_set_1_tweets_csv.csv\", sep=\"\\t\" )\n",
    "df_test1_x=pd.read_csv(r\"C:\\Users\\NehaS\\Desktop\\HW\\CS 594 Project\\Data\\evaluation_set_tweets_csv.csv\", sep=\"\\t\" )\n",
    "df_trainY=pd.read_csv(r\"C:\\Users\\NehaS\\Desktop\\HW\\CS 594 Project\\Data\\training_set_1_ids.txt\", sep=\"\\t\", header=None )\n",
    "df_testY=pd.read_csv(r\"C:\\Users\\NehaS\\Desktop\\HW\\CS 594 Project\\Data\\evaluation_set_ids.txt\", sep=\"\\t\", header=None)\n",
    "df_train1=df_train1_x.merge(df_trainY, how = \"inner\", left_on='id', right_on=0)\n",
    "df_test1=df_test1_x.merge(df_testY, how = \"inner\", left_on='id', right_on=0)\n",
    "df_test1=df_test1.dropna(subset=[2])\n",
    "df_train1=df_train1.dropna(subset=[2])"
   ]
  },
  {
   "cell_type": "code",
   "execution_count": 3,
   "metadata": {},
   "outputs": [
    {
     "name": "stderr",
     "output_type": "stream",
     "text": [
      "[nltk_data] Downloading package words to\n",
      "[nltk_data]     C:\\Users\\NehaS\\AppData\\Roaming\\nltk_data...\n",
      "[nltk_data]   Package words is already up-to-date!\n"
     ]
    }
   ],
   "source": [
    "nltk.download('words')\n",
    "words = set(nltk.corpus.words.words())\n",
    "stemmer=PorterStemmer()\n",
    "def preprocess(tweet):\n",
    "    tweet = re.sub(\"@[A-Za-z0-9]+\",\"\",tweet)\n",
    "    tweet = re.sub(r\"(?:\\@|http?\\://|https?\\://|www)\\S+\", \"\", tweet) \n",
    "    tweet = \" \".join(tweet.split())\n",
    "    tweet = ''.join(c for c in tweet if c not in emoji.UNICODE_EMOJI) \n",
    "    tweet = tweet.replace(\"#\", \"\").replace(\"_\", \" \")\n",
    "    tweet = \" \".join(w for w in nltk.wordpunct_tokenize(tweet) if w.lower() in words or not w.isalpha())\n",
    "    stems = [stemmer.stem(item) for item in tweet]\n",
    "    return tweet\n",
    "df_train1['text'] = df_train1['text'].map(lambda x: preprocess(x))\n",
    "df_test1['text']=df_test1['text'].map(lambda x:preprocess(x))"
   ]
  },
  {
   "cell_type": "code",
   "execution_count": 4,
   "metadata": {},
   "outputs": [],
   "source": [
    "vectorizer = TfidfVectorizer(stop_words='english')\n",
    "vectorizer.fit_transform(df_train1['text'])\n",
    "X_train1=vectorizer.transform(df_train1['text'])\n",
    "X_test1=vectorizer.transform(df_test1['text'])"
   ]
  },
  {
   "cell_type": "code",
   "execution_count": 5,
   "metadata": {},
   "outputs": [
    {
     "name": "stdout",
     "output_type": "stream",
     "text": [
      "[LibLinear]"
     ]
    },
    {
     "data": {
      "text/plain": [
       "0.5868123992116108"
      ]
     },
     "execution_count": 5,
     "metadata": {},
     "output_type": "execute_result"
    }
   ],
   "source": [
    "lr_model = LogisticRegression(verbose=1, solver='liblinear',random_state=0, C=5, penalty='l2',max_iter=1000)\n",
    "model=lr_model.fit(X_train1,df_train1[2])\n",
    "Y_pred=model.predict(X_test1)\n",
    "df_test1[2]=df_test1[2].astype(np.int64)\n",
    "f1_score(df_test1[2],Y_pred, average='micro')"
   ]
  }
 ],
 "metadata": {
  "kernelspec": {
   "display_name": "Python 3",
   "language": "python",
   "name": "python3"
  },
  "language_info": {
   "codemirror_mode": {
    "name": "ipython",
    "version": 3
   },
   "file_extension": ".py",
   "mimetype": "text/x-python",
   "name": "python",
   "nbconvert_exporter": "python",
   "pygments_lexer": "ipython3",
   "version": "3.8.5"
  }
 },
 "nbformat": 4,
 "nbformat_minor": 4
}
