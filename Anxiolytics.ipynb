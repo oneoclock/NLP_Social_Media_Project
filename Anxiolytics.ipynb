{
 "cells": [
  {
   "cell_type": "code",
   "execution_count": 2,
   "metadata": {},
   "outputs": [],
   "source": [
    "import numpy as np\n",
    "import pandas as pd\n",
    "import matplotlib.pyplot as plt\n",
    "import os\n",
    "import seaborn as sns"
   ]
  },
  {
   "cell_type": "code",
   "execution_count": 3,
   "metadata": {},
   "outputs": [
    {
     "data": {
      "text/html": [
       "<div>\n",
       "<style scoped>\n",
       "    .dataframe tbody tr th:only-of-type {\n",
       "        vertical-align: middle;\n",
       "    }\n",
       "\n",
       "    .dataframe tbody tr th {\n",
       "        vertical-align: top;\n",
       "    }\n",
       "\n",
       "    .dataframe thead th {\n",
       "        text-align: right;\n",
       "    }\n",
       "</style>\n",
       "<table border=\"1\" class=\"dataframe\">\n",
       "  <thead>\n",
       "    <tr style=\"text-align: right;\">\n",
       "      <th></th>\n",
       "      <th>Unnamed: 0</th>\n",
       "      <th>id</th>\n",
       "      <th>text</th>\n",
       "      <th>labels</th>\n",
       "    </tr>\n",
       "  </thead>\n",
       "  <tbody>\n",
       "    <tr>\n",
       "      <th>0</th>\n",
       "      <td>0</td>\n",
       "      <td>1200921779079958528</td>\n",
       "      <td>I would like to purchase xanax for the 4th qua...</td>\n",
       "      <td>1</td>\n",
       "    </tr>\n",
       "    <tr>\n",
       "      <th>1</th>\n",
       "      <td>1</td>\n",
       "      <td>1200909536321822722</td>\n",
       "      <td>My wife’s perspective 30 minutes later suggest...</td>\n",
       "      <td>2</td>\n",
       "    </tr>\n",
       "    <tr>\n",
       "      <th>2</th>\n",
       "      <td>2</td>\n",
       "      <td>1200909313922994176</td>\n",
       "      <td>Give Alabama O Xanax and valium ?</td>\n",
       "      <td>2</td>\n",
       "    </tr>\n",
       "    <tr>\n",
       "      <th>3</th>\n",
       "      <td>3</td>\n",
       "      <td>1200908603646984198</td>\n",
       "      <td>Mfs be taxing lmaoooo I get 90 Xanax a month f...</td>\n",
       "      <td>2</td>\n",
       "    </tr>\n",
       "    <tr>\n",
       "      <th>4</th>\n",
       "      <td>4</td>\n",
       "      <td>1200903137462308864</td>\n",
       "      <td>Give Waddell Xanax and Valium</td>\n",
       "      <td>2</td>\n",
       "    </tr>\n",
       "    <tr>\n",
       "      <th>...</th>\n",
       "      <td>...</td>\n",
       "      <td>...</td>\n",
       "      <td>...</td>\n",
       "      <td>...</td>\n",
       "    </tr>\n",
       "    <tr>\n",
       "      <th>42</th>\n",
       "      <td>42</td>\n",
       "      <td>1191991208333258752</td>\n",
       "      <td>Ok so I took my Ativan on accident yesterday...</td>\n",
       "      <td>0</td>\n",
       "    </tr>\n",
       "    <tr>\n",
       "      <th>43</th>\n",
       "      <td>43</td>\n",
       "      <td>1191789100249968640</td>\n",
       "      <td>I’d give my left arm for an Ativan right now</td>\n",
       "      <td>1</td>\n",
       "    </tr>\n",
       "    <tr>\n",
       "      <th>44</th>\n",
       "      <td>44</td>\n",
       "      <td>1191611987488202752</td>\n",
       "      <td>brown67 I dumped my narcotic pain meds and At...</td>\n",
       "      <td>0</td>\n",
       "    </tr>\n",
       "    <tr>\n",
       "      <th>45</th>\n",
       "      <td>45</td>\n",
       "      <td>1190457374139703297</td>\n",
       "      <td>How about Ativan by IV instead?</td>\n",
       "      <td>2</td>\n",
       "    </tr>\n",
       "    <tr>\n",
       "      <th>46</th>\n",
       "      <td>46</td>\n",
       "      <td>1190244645801996294</td>\n",
       "      <td>zamo Ativan and granola.</td>\n",
       "      <td>2</td>\n",
       "    </tr>\n",
       "  </tbody>\n",
       "</table>\n",
       "<p>637 rows × 4 columns</p>\n",
       "</div>"
      ],
      "text/plain": [
       "    Unnamed: 0                   id  \\\n",
       "0            0  1200921779079958528   \n",
       "1            1  1200909536321822722   \n",
       "2            2  1200909313922994176   \n",
       "3            3  1200908603646984198   \n",
       "4            4  1200903137462308864   \n",
       "..         ...                  ...   \n",
       "42          42  1191991208333258752   \n",
       "43          43  1191789100249968640   \n",
       "44          44  1191611987488202752   \n",
       "45          45  1190457374139703297   \n",
       "46          46  1190244645801996294   \n",
       "\n",
       "                                                 text  labels  \n",
       "0   I would like to purchase xanax for the 4th qua...       1  \n",
       "1   My wife’s perspective 30 minutes later suggest...       2  \n",
       "2                   Give Alabama O Xanax and valium ?       2  \n",
       "3   Mfs be taxing lmaoooo I get 90 Xanax a month f...       2  \n",
       "4                       Give Waddell Xanax and Valium       2  \n",
       "..                                                ...     ...  \n",
       "42    Ok so I took my Ativan on accident yesterday...       0  \n",
       "43       I’d give my left arm for an Ativan right now       1  \n",
       "44   brown67 I dumped my narcotic pain meds and At...       0  \n",
       "45                    How about Ativan by IV instead?       2  \n",
       "46                           zamo Ativan and granola.       2  \n",
       "\n",
       "[637 rows x 4 columns]"
      ]
     },
     "execution_count": 3,
     "metadata": {},
     "output_type": "execute_result"
    }
   ],
   "source": [
    "path = r'C:\\Users\\NehaS\\Desktop\\NLP_Social_Media_Project-main\\Twitter_Drug_Data_November_Pred'\n",
    "anx_med=['xanax_tweets_November19_pred.csv','valium_tweets_November19_pred.csv','klonopin_tweets_November19_pred.csv','ativan_tweets_November19_pred.csv']\n",
    "df=pd.DataFrame()\n",
    "for filename in anx_med:\n",
    "      df=df.append(pd.read_csv(path+'\\\\'+filename, sep='\\t'))\n",
    "df"
   ]
  },
  {
   "cell_type": "code",
   "execution_count": 8,
   "metadata": {},
   "outputs": [
    {
     "data": {
      "text/html": [
       "<div>\n",
       "<style scoped>\n",
       "    .dataframe tbody tr th:only-of-type {\n",
       "        vertical-align: middle;\n",
       "    }\n",
       "\n",
       "    .dataframe tbody tr th {\n",
       "        vertical-align: top;\n",
       "    }\n",
       "\n",
       "    .dataframe thead th {\n",
       "        text-align: right;\n",
       "    }\n",
       "</style>\n",
       "<table border=\"1\" class=\"dataframe\">\n",
       "  <thead>\n",
       "    <tr style=\"text-align: right;\">\n",
       "      <th></th>\n",
       "      <th>Unnamed: 0</th>\n",
       "      <th>id</th>\n",
       "      <th>text</th>\n",
       "      <th>labels</th>\n",
       "    </tr>\n",
       "  </thead>\n",
       "  <tbody>\n",
       "    <tr>\n",
       "      <th>0</th>\n",
       "      <td>0</td>\n",
       "      <td>1300391841242796032</td>\n",
       "      <td>The ward it soooo out of pocket for how they b...</td>\n",
       "      <td>2</td>\n",
       "    </tr>\n",
       "    <tr>\n",
       "      <th>1</th>\n",
       "      <td>1</td>\n",
       "      <td>1300365690193367040</td>\n",
       "      <td>Ativan crash</td>\n",
       "      <td>2</td>\n",
       "    </tr>\n",
       "    <tr>\n",
       "      <th>2</th>\n",
       "      <td>2</td>\n",
       "      <td>1299394323184668672</td>\n",
       "      <td>Got two things to say and it has nothing to do...</td>\n",
       "      <td>1</td>\n",
       "    </tr>\n",
       "    <tr>\n",
       "      <th>3</th>\n",
       "      <td>3</td>\n",
       "      <td>1299037359682420736</td>\n",
       "      <td>I think I need an Ativan. Damn, it’s early too.</td>\n",
       "      <td>1</td>\n",
       "    </tr>\n",
       "    <tr>\n",
       "      <th>4</th>\n",
       "      <td>4</td>\n",
       "      <td>1298850755713970177</td>\n",
       "      <td>&amp;amp; i’m talking abt to just going to a regul...</td>\n",
       "      <td>1</td>\n",
       "    </tr>\n",
       "    <tr>\n",
       "      <th>...</th>\n",
       "      <td>...</td>\n",
       "      <td>...</td>\n",
       "      <td>...</td>\n",
       "      <td>...</td>\n",
       "    </tr>\n",
       "    <tr>\n",
       "      <th>520</th>\n",
       "      <td>520</td>\n",
       "      <td>1289377751879815168</td>\n",
       "      <td>Have you ever tried xanax lmao</td>\n",
       "      <td>2</td>\n",
       "    </tr>\n",
       "    <tr>\n",
       "      <th>521</th>\n",
       "      <td>521</td>\n",
       "      <td>1289377273712267264</td>\n",
       "      <td>Yeah. No margin for error. I watched festival ...</td>\n",
       "      <td>2</td>\n",
       "    </tr>\n",
       "    <tr>\n",
       "      <th>522</th>\n",
       "      <td>522</td>\n",
       "      <td>1289376080831422464</td>\n",
       "      <td>wish this pussy ass bitch had her DMs open so ...</td>\n",
       "      <td>2</td>\n",
       "    </tr>\n",
       "    <tr>\n",
       "      <th>523</th>\n",
       "      <td>523</td>\n",
       "      <td>1289365409750106112</td>\n",
       "      <td>Massive anxiety happening out of the blue. Can...</td>\n",
       "      <td>0</td>\n",
       "    </tr>\n",
       "    <tr>\n",
       "      <th>524</th>\n",
       "      <td>524</td>\n",
       "      <td>1289364776703930369</td>\n",
       "      <td>Some agents get 200 queries a week and only re...</td>\n",
       "      <td>1</td>\n",
       "    </tr>\n",
       "  </tbody>\n",
       "</table>\n",
       "<p>873 rows × 4 columns</p>\n",
       "</div>"
      ],
      "text/plain": [
       "     Unnamed: 0                   id  \\\n",
       "0             0  1300391841242796032   \n",
       "1             1  1300365690193367040   \n",
       "2             2  1299394323184668672   \n",
       "3             3  1299037359682420736   \n",
       "4             4  1298850755713970177   \n",
       "..          ...                  ...   \n",
       "520         520  1289377751879815168   \n",
       "521         521  1289377273712267264   \n",
       "522         522  1289376080831422464   \n",
       "523         523  1289365409750106112   \n",
       "524         524  1289364776703930369   \n",
       "\n",
       "                                                  text  labels  \n",
       "0    The ward it soooo out of pocket for how they b...       2  \n",
       "1                                         Ativan crash       2  \n",
       "2    Got two things to say and it has nothing to do...       1  \n",
       "3      I think I need an Ativan. Damn, it’s early too.       1  \n",
       "4    &amp; i’m talking abt to just going to a regul...       1  \n",
       "..                                                 ...     ...  \n",
       "520                     Have you ever tried xanax lmao       2  \n",
       "521  Yeah. No margin for error. I watched festival ...       2  \n",
       "522  wish this pussy ass bitch had her DMs open so ...       2  \n",
       "523  Massive anxiety happening out of the blue. Can...       0  \n",
       "524  Some agents get 200 queries a week and only re...       1  \n",
       "\n",
       "[873 rows x 4 columns]"
      ]
     },
     "execution_count": 8,
     "metadata": {},
     "output_type": "execute_result"
    }
   ],
   "source": [
    "path = r'C:\\Users\\NehaS\\Desktop\\NLP_Social_Media_Project-main\\Twitter_Drug_Data_August_Pred'\n",
    "anx_med_2=['ativan_tweets_August_pred.csv', 'klonopin_tweets_August_pred.csv', 'valium_tweets_August_pred.csv', 'xanax_tweets_August_pred.csv' ]\n",
    "df2=pd.DataFrame()\n",
    "for filename in anx_med_2:\n",
    "      df2=df2.append(pd.read_csv(path+'\\\\'+filename, sep = '\\t'))\n",
    "df2"
   ]
  },
  {
   "cell_type": "code",
   "execution_count": 9,
   "metadata": {},
   "outputs": [
    {
     "name": "stderr",
     "output_type": "stream",
     "text": [
      "C:\\Users\\NehaS\\Anaconda3\\lib\\site-packages\\seaborn\\_decorators.py:36: FutureWarning: Pass the following variable as a keyword arg: x. From version 0.12, the only valid positional argument will be `data`, and passing other arguments without an explicit keyword will result in an error or misinterpretation.\n",
      "  warnings.warn(\n"
     ]
    },
    {
     "data": {
      "text/plain": [
       "Text(0.5, 0, 'Usage Pre-COVID November 2019')"
      ]
     },
     "execution_count": 9,
     "metadata": {},
     "output_type": "execute_result"
    },
    {
     "data": {
      "image/png": "[encoded data removed]",
      "text/plain": [
       "<Figure size 432x288 with 1 Axes>"
      ]
     },
     "metadata": {
      "needs_background": "light"
     },
     "output_type": "display_data"
    }
   ],
   "source": [
    "sns.countplot(df['labels'])\n",
    "plt.xlabel('Usage Pre-COVID November 2019')"
   ]
  },
  {
   "cell_type": "code",
   "execution_count": 10,
   "metadata": {},
   "outputs": [
    {
     "name": "stderr",
     "output_type": "stream",
     "text": [
      "C:\\Users\\NehaS\\Anaconda3\\lib\\site-packages\\seaborn\\_decorators.py:36: FutureWarning: Pass the following variable as a keyword arg: x. From version 0.12, the only valid positional argument will be `data`, and passing other arguments without an explicit keyword will result in an error or misinterpretation.\n",
      "  warnings.warn(\n"
     ]
    },
    {
     "data": {
      "text/plain": [
       "Text(0.5, 0, 'Usage Post-COVID August 2020')"
      ]
     },
     "execution_count": 10,
     "metadata": {},
     "output_type": "execute_result"
    },
    {
     "data": {
      "image/png": "[encoded data removed]",
      "text/plain": [
       "<Figure size 432x288 with 1 Axes>"
      ]
     },
     "metadata": {
      "needs_background": "light"
     },
     "output_type": "display_data"
    }
   ],
   "source": [
    "sns.countplot(df2['labels'])\n",
    "plt.xlabel('Usage Post-COVID August 2020')"
   ]
  },
  {
   "cell_type": "code",
   "execution_count": null,
   "metadata": {},
   "outputs": [],
   "source": []
  }
 ],
 "metadata": {
  "kernelspec": {
   "display_name": "Python 3",
   "language": "python",
   "name": "python3"
  },
  "language_info": {
   "codemirror_mode": {
    "name": "ipython",
    "version": 3
   },
   "file_extension": ".py",
   "mimetype": "text/x-python",
   "name": "python",
   "nbconvert_exporter": "python",
   "pygments_lexer": "ipython3",
   "version": "3.8.5"
  }
 },
 "nbformat": 4,
 "nbformat_minor": 4
}
