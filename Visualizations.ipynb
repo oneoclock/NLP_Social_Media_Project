{
 "cells": [
  {
   "cell_type": "code",
   "execution_count": 22,
   "metadata": {},
   "outputs": [],
   "source": [
    "import numpy as np\n",
    "import pandas as pd\n",
    "import matplotlib.pyplot as plt\n",
    "import os\n",
    "import seaborn as sns"
   ]
  },
  {
   "cell_type": "code",
   "execution_count": 35,
   "metadata": {},
   "outputs": [
    {
     "data": {
      "text/html": [
       "<div>\n",
       "<style scoped>\n",
       "    .dataframe tbody tr th:only-of-type {\n",
       "        vertical-align: middle;\n",
       "    }\n",
       "\n",
       "    .dataframe tbody tr th {\n",
       "        vertical-align: top;\n",
       "    }\n",
       "\n",
       "    .dataframe thead th {\n",
       "        text-align: right;\n",
       "    }\n",
       "</style>\n",
       "<table border=\"1\" class=\"dataframe\">\n",
       "  <thead>\n",
       "    <tr style=\"text-align: right;\">\n",
       "      <th></th>\n",
       "      <th>Unnamed: 0</th>\n",
       "      <th>id</th>\n",
       "      <th>text</th>\n",
       "      <th>labels</th>\n",
       "    </tr>\n",
       "  </thead>\n",
       "  <tbody>\n",
       "    <tr>\n",
       "      <th>0</th>\n",
       "      <td>0</td>\n",
       "      <td>1199003043007741953</td>\n",
       "      <td>No antidepressants atm. I have to take breaks ...</td>\n",
       "      <td>1</td>\n",
       "    </tr>\n",
       "    <tr>\n",
       "      <th>1</th>\n",
       "      <td>1</td>\n",
       "      <td>1196000063475990528</td>\n",
       "      <td>I worked private duty for an elderly client wh...</td>\n",
       "      <td>2</td>\n",
       "    </tr>\n",
       "    <tr>\n",
       "      <th>2</th>\n",
       "      <td>2</td>\n",
       "      <td>1195017663950524416</td>\n",
       "      <td>Alprazolam actually does its job when you don'...</td>\n",
       "      <td>2</td>\n",
       "    </tr>\n",
       "    <tr>\n",
       "      <th>3</th>\n",
       "      <td>3</td>\n",
       "      <td>1192818726753714176</td>\n",
       "      <td>Go to a Sleep Management Doctor. Explain your ...</td>\n",
       "      <td>2</td>\n",
       "    </tr>\n",
       "    <tr>\n",
       "      <th>0</th>\n",
       "      <td>0</td>\n",
       "      <td>1200925335073775621</td>\n",
       "      <td>That I have not run off this bus and straight ...</td>\n",
       "      <td>1</td>\n",
       "    </tr>\n",
       "    <tr>\n",
       "      <th>...</th>\n",
       "      <td>...</td>\n",
       "      <td>...</td>\n",
       "      <td>...</td>\n",
       "      <td>...</td>\n",
       "    </tr>\n",
       "    <tr>\n",
       "      <th>89</th>\n",
       "      <td>89</td>\n",
       "      <td>1190321252289908739</td>\n",
       "      <td>It’s such a dick tease when the website lets m...</td>\n",
       "      <td>1</td>\n",
       "    </tr>\n",
       "    <tr>\n",
       "      <th>90</th>\n",
       "      <td>90</td>\n",
       "      <td>1190319588883550208</td>\n",
       "      <td>I didn’t think I was gonna have to increase my...</td>\n",
       "      <td>1</td>\n",
       "    </tr>\n",
       "    <tr>\n",
       "      <th>91</th>\n",
       "      <td>91</td>\n",
       "      <td>1190318393175552000</td>\n",
       "      <td>I think I need some more Zoloft for this...:up...</td>\n",
       "      <td>1</td>\n",
       "    </tr>\n",
       "    <tr>\n",
       "      <th>92</th>\n",
       "      <td>92</td>\n",
       "      <td>1190305807751155714</td>\n",
       "      <td>joy98 LOADS of vitamin D, exercise, water and...</td>\n",
       "      <td>1</td>\n",
       "    </tr>\n",
       "    <tr>\n",
       "      <th>93</th>\n",
       "      <td>93</td>\n",
       "      <td>1190097724156399618</td>\n",
       "      <td>Zoloft too funny.</td>\n",
       "      <td>1</td>\n",
       "    </tr>\n",
       "  </tbody>\n",
       "</table>\n",
       "<p>1064 rows × 4 columns</p>\n",
       "</div>"
      ],
      "text/plain": [
       "    Unnamed: 0                   id  \\\n",
       "0            0  1199003043007741953   \n",
       "1            1  1196000063475990528   \n",
       "2            2  1195017663950524416   \n",
       "3            3  1192818726753714176   \n",
       "0            0  1200925335073775621   \n",
       "..         ...                  ...   \n",
       "89          89  1190321252289908739   \n",
       "90          90  1190319588883550208   \n",
       "91          91  1190318393175552000   \n",
       "92          92  1190305807751155714   \n",
       "93          93  1190097724156399618   \n",
       "\n",
       "                                                 text  labels  \n",
       "0   No antidepressants atm. I have to take breaks ...       1  \n",
       "1   I worked private duty for an elderly client wh...       2  \n",
       "2   Alprazolam actually does its job when you don'...       2  \n",
       "3   Go to a Sleep Management Doctor. Explain your ...       2  \n",
       "0   That I have not run off this bus and straight ...       1  \n",
       "..                                                ...     ...  \n",
       "89  It’s such a dick tease when the website lets m...       1  \n",
       "90  I didn’t think I was gonna have to increase my...       1  \n",
       "91  I think I need some more Zoloft for this...:up...       1  \n",
       "92   joy98 LOADS of vitamin D, exercise, water and...       1  \n",
       "93                                  Zoloft too funny.       1  \n",
       "\n",
       "[1064 rows x 4 columns]"
      ]
     },
     "execution_count": 35,
     "metadata": {},
     "output_type": "execute_result"
    }
   ],
   "source": [
    "path = r'C:\\Users\\NehaS\\Desktop\\NLP_Social_Media_Project-main\\Twitter_Drug_Data_November_Pred'\n",
    "anx_med=['Xanax',]\n",
    "df=pd.DataFrame()\n",
    "for filename in os.listdir(path):\n",
    "      df=df.append(pd.read_csv(path+'\\\\'+filename, sep='\\t'))\n",
    "df"
   ]
  },
  {
   "cell_type": "code",
   "execution_count": 36,
   "metadata": {},
   "outputs": [
    {
     "data": {
      "text/html": [
       "<div>\n",
       "<style scoped>\n",
       "    .dataframe tbody tr th:only-of-type {\n",
       "        vertical-align: middle;\n",
       "    }\n",
       "\n",
       "    .dataframe tbody tr th {\n",
       "        vertical-align: top;\n",
       "    }\n",
       "\n",
       "    .dataframe thead th {\n",
       "        text-align: right;\n",
       "    }\n",
       "</style>\n",
       "<table border=\"1\" class=\"dataframe\">\n",
       "  <thead>\n",
       "    <tr style=\"text-align: right;\">\n",
       "      <th></th>\n",
       "      <th>Unnamed: 0</th>\n",
       "      <th>id</th>\n",
       "      <th>text</th>\n",
       "      <th>labels</th>\n",
       "    </tr>\n",
       "  </thead>\n",
       "  <tbody>\n",
       "    <tr>\n",
       "      <th>0</th>\n",
       "      <td>0</td>\n",
       "      <td>1199003043007741953</td>\n",
       "      <td>No antidepressants atm. I have to take breaks ...</td>\n",
       "      <td>1</td>\n",
       "    </tr>\n",
       "    <tr>\n",
       "      <th>1</th>\n",
       "      <td>1</td>\n",
       "      <td>1196000063475990528</td>\n",
       "      <td>I worked private duty for an elderly client wh...</td>\n",
       "      <td>2</td>\n",
       "    </tr>\n",
       "    <tr>\n",
       "      <th>2</th>\n",
       "      <td>2</td>\n",
       "      <td>1195017663950524416</td>\n",
       "      <td>Alprazolam actually does its job when you don'...</td>\n",
       "      <td>2</td>\n",
       "    </tr>\n",
       "    <tr>\n",
       "      <th>3</th>\n",
       "      <td>3</td>\n",
       "      <td>1192818726753714176</td>\n",
       "      <td>Go to a Sleep Management Doctor. Explain your ...</td>\n",
       "      <td>2</td>\n",
       "    </tr>\n",
       "    <tr>\n",
       "      <th>0</th>\n",
       "      <td>0</td>\n",
       "      <td>1200925335073775621</td>\n",
       "      <td>That I have not run off this bus and straight ...</td>\n",
       "      <td>1</td>\n",
       "    </tr>\n",
       "    <tr>\n",
       "      <th>...</th>\n",
       "      <td>...</td>\n",
       "      <td>...</td>\n",
       "      <td>...</td>\n",
       "      <td>...</td>\n",
       "    </tr>\n",
       "    <tr>\n",
       "      <th>93</th>\n",
       "      <td>93</td>\n",
       "      <td>1290124778116755458</td>\n",
       "      <td>Antidepressants (and antipsychotics) really ar...</td>\n",
       "      <td>1</td>\n",
       "    </tr>\n",
       "    <tr>\n",
       "      <th>94</th>\n",
       "      <td>94</td>\n",
       "      <td>1289799177103278080</td>\n",
       "      <td>how is my dr gonna fucking put me on lithium, ...</td>\n",
       "      <td>1</td>\n",
       "    </tr>\n",
       "    <tr>\n",
       "      <th>95</th>\n",
       "      <td>95</td>\n",
       "      <td>1289753905975275520</td>\n",
       "      <td>UNfairly chaotic. So has mine. \"Probably\" isn'...</td>\n",
       "      <td>1</td>\n",
       "    </tr>\n",
       "    <tr>\n",
       "      <th>96</th>\n",
       "      <td>96</td>\n",
       "      <td>1289467933043777536</td>\n",
       "      <td>Zoloft fucking sucks</td>\n",
       "      <td>1</td>\n",
       "    </tr>\n",
       "    <tr>\n",
       "      <th>97</th>\n",
       "      <td>97</td>\n",
       "      <td>1289388133495103490</td>\n",
       "      <td>Started taking my Zoloft with a shot of whiske...</td>\n",
       "      <td>0</td>\n",
       "    </tr>\n",
       "  </tbody>\n",
       "</table>\n",
       "<p>1162 rows × 4 columns</p>\n",
       "</div>"
      ],
      "text/plain": [
       "    Unnamed: 0                   id  \\\n",
       "0            0  1199003043007741953   \n",
       "1            1  1196000063475990528   \n",
       "2            2  1195017663950524416   \n",
       "3            3  1192818726753714176   \n",
       "0            0  1200925335073775621   \n",
       "..         ...                  ...   \n",
       "93          93  1290124778116755458   \n",
       "94          94  1289799177103278080   \n",
       "95          95  1289753905975275520   \n",
       "96          96  1289467933043777536   \n",
       "97          97  1289388133495103490   \n",
       "\n",
       "                                                 text  labels  \n",
       "0   No antidepressants atm. I have to take breaks ...       1  \n",
       "1   I worked private duty for an elderly client wh...       2  \n",
       "2   Alprazolam actually does its job when you don'...       2  \n",
       "3   Go to a Sleep Management Doctor. Explain your ...       2  \n",
       "0   That I have not run off this bus and straight ...       1  \n",
       "..                                                ...     ...  \n",
       "93  Antidepressants (and antipsychotics) really ar...       1  \n",
       "94  how is my dr gonna fucking put me on lithium, ...       1  \n",
       "95  UNfairly chaotic. So has mine. \"Probably\" isn'...       1  \n",
       "96                               Zoloft fucking sucks       1  \n",
       "97  Started taking my Zoloft with a shot of whiske...       0  \n",
       "\n",
       "[1162 rows x 4 columns]"
      ]
     },
     "execution_count": 36,
     "metadata": {},
     "output_type": "execute_result"
    }
   ],
   "source": [
    "path = r'C:\\Users\\NehaS\\Desktop\\NLP_Social_Media_Project-main\\Twitter_Drug_Data_August_Pred'\n",
    "df2=pd.DataFrame()\n",
    "for filename in os.listdir(path):\n",
    "      df2=df.append(pd.read_csv(path+'\\\\'+filename, sep = '\\t'))\n",
    "df2"
   ]
  },
  {
   "cell_type": "code",
   "execution_count": 39,
   "metadata": {},
   "outputs": [
    {
     "name": "stderr",
     "output_type": "stream",
     "text": [
      "C:\\Users\\NehaS\\Anaconda3\\lib\\site-packages\\seaborn\\_decorators.py:36: FutureWarning: Pass the following variable as a keyword arg: x. From version 0.12, the only valid positional argument will be `data`, and passing other arguments without an explicit keyword will result in an error or misinterpretation.\n",
      "  warnings.warn(\n"
     ]
    },
    {
     "data": {
      "text/plain": [
       "Text(0.5, 0, 'Usage Pre-COVID November 2019')"
      ]
     },
     "execution_count": 39,
     "metadata": {},
     "output_type": "execute_result"
    },
    {
     "data": {
      "image/png": "[encoded data removed]",
      "text/plain": [
       "<Figure size 432x288 with 1 Axes>"
      ]
     },
     "metadata": {
      "needs_background": "light"
     },
     "output_type": "display_data"
    }
   ],
   "source": [
    "sns.countplot(df['labels'])\n",
    "plt.xlabel('Usage Pre-COVID November 2019')"
   ]
  },
  {
   "cell_type": "code",
   "execution_count": 40,
   "metadata": {},
   "outputs": [
    {
     "name": "stderr",
     "output_type": "stream",
     "text": [
      "C:\\Users\\NehaS\\Anaconda3\\lib\\site-packages\\seaborn\\_decorators.py:36: FutureWarning: Pass the following variable as a keyword arg: x. From version 0.12, the only valid positional argument will be `data`, and passing other arguments without an explicit keyword will result in an error or misinterpretation.\n",
      "  warnings.warn(\n"
     ]
    },
    {
     "data": {
      "text/plain": [
       "Text(0.5, 0, 'Usage Post-COVID August 2020')"
      ]
     },
     "execution_count": 40,
     "metadata": {},
     "output_type": "execute_result"
    },
    {
     "data": {
      "image/png": "[encoded data removed]",
      "text/plain": [
       "<Figure size 432x288 with 1 Axes>"
      ]
     },
     "metadata": {
      "needs_background": "light"
     },
     "output_type": "display_data"
    }
   ],
   "source": [
    "sns.countplot(df2['labels'])\n",
    "plt.xlabel('Usage Post-COVID August 2020')"
   ]
  },
  {
   "cell_type": "code",
   "execution_count": null,
   "metadata": {},
   "outputs": [],
   "source": []
  }
 ],
 "metadata": {
  "kernelspec": {
   "display_name": "Python 3",
   "language": "python",
   "name": "python3"
  },
  "language_info": {
   "codemirror_mode": {
    "name": "ipython",
    "version": 3
   },
   "file_extension": ".py",
   "mimetype": "text/x-python",
   "name": "python",
   "nbconvert_exporter": "python",
   "pygments_lexer": "ipython3",
   "version": "3.8.5"
  }
 },
 "nbformat": 4,
 "nbformat_minor": 4
}
